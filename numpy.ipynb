{
 "cells": [
  {
   "cell_type": "code",
   "execution_count": 3,
   "metadata": {},
   "outputs": [],
   "source": [
    "import numpy as np\n",
    "import matplotlib.pyplot as plt"
   ]
  },
  {
   "cell_type": "code",
   "execution_count": 2,
   "metadata": {},
   "outputs": [],
   "source": []
  },
  {
   "cell_type": "code",
   "execution_count": 6,
   "metadata": {},
   "outputs": [
    {
     "data": {
      "text/plain": [
       "(array([  5.,   4.,   4.,  19.,  28.,  43.,  69.,  91., 107., 155., 127.,\n",
       "        123.,  83.,  55.,  41.,  21.,  17.,   5.,   2.,   1.]),\n",
       " array([-3.24970098, -2.92398429, -2.59826759, -2.2725509 , -1.94683421,\n",
       "        -1.62111751, -1.29540082, -0.96968412, -0.64396743, -0.31825073,\n",
       "         0.00746596,  0.33318265,  0.65889935,  0.98461604,  1.31033274,\n",
       "         1.63604943,  1.96176613,  2.28748282,  2.61319951,  2.93891621,\n",
       "         3.2646329 ]),\n",
       " <a list of 20 Patch objects>)"
      ]
     },
     "execution_count": 6,
     "metadata": {},
     "output_type": "execute_result"
    },
    {
     "data": {
      "image/png": "[encoded data removed]",
      "text/plain": [
       "<Figure size 432x288 with 1 Axes>"
      ]
     },
     "metadata": {
      "needs_background": "light"
     },
     "output_type": "display_data"
    }
   ],
   "source": [
    "t = np.random.randn((1000))\n",
    "plt.hist(t, bins=20)"
   ]
  },
  {
   "cell_type": "code",
   "execution_count": 1,
   "metadata": {},
   "outputs": [],
   "source": [
    "import torch\n",
    "import torch.nn.functional as nfunc"
   ]
  },
  {
   "cell_type": "code",
   "execution_count": 6,
   "metadata": {},
   "outputs": [
    {
     "data": {
      "text/plain": [
       "array([[  0.01648795,   2.40377502,   4.33443558,  -5.38104819,\n",
       "         -0.57965218,  -3.39327043,  -3.72705469,   0.17285391,\n",
       "         -0.17948855,   0.58041541],\n",
       "       [  0.22201878,   4.36096846,   6.00011918,   0.31904866,\n",
       "         -6.49052795,  -5.08295729,   0.42629467, -13.34530353,\n",
       "          4.12873019,   4.34889065],\n",
       "       [  6.33642232,  -0.2305051 ,   8.14545688,  -0.93808866,\n",
       "          2.56595169,   6.76252501,  -2.88150536,   4.08261038,\n",
       "          0.81155842,   9.92233202],\n",
       "       [ -5.93801147,   6.53136248,  -7.25641609,  -8.2673302 ,\n",
       "         -9.0790579 ,  11.7387691 ,   3.48017514,   2.42005137,\n",
       "         -2.34892769,  -0.83193761],\n",
       "       [ -0.05481275,  -5.04035172,   0.75123667,   0.2510275 ,\n",
       "          2.23748206,  -0.06758472,  -2.13333442,  10.30069746,\n",
       "         -4.33833101,  -5.66993934],\n",
       "       [  5.99344272,   3.18976375,   0.42730104,  -0.69421412,\n",
       "          3.04839289,   7.21623563,  -2.74226398,  12.80917721,\n",
       "         -3.2204412 ,  -1.80076651],\n",
       "       [  0.69804784,   0.06063468,  -1.83189247,  -0.52840498,\n",
       "          9.98084845,  -3.41218441,  -0.59278668,   0.66498598,\n",
       "          4.43839931,   0.03144105],\n",
       "       [ -0.77367867,  -6.79386926,  -5.98783727,  -3.60931379,\n",
       "          3.68522006,  -2.38858615,   3.55754626,   3.34460065,\n",
       "          8.600085  ,   7.80374017],\n",
       "       [  0.78809622,   1.88607029,   8.59055115,  -1.54793046,\n",
       "         -6.93047678,  -3.29778565,   9.20350158,   2.19163366,\n",
       "         -2.39361724,  -3.60662577],\n",
       "       [  0.57330773,   1.85046984,   0.34703638,   2.8481838 ,\n",
       "          6.74417041,  -8.34696771,  -1.52697287,   6.53295402,\n",
       "          8.54094502,  -3.41133427]])"
      ]
     },
     "execution_count": 6,
     "metadata": {},
     "output_type": "execute_result"
    }
   ],
   "source": [
    "t = np.random.randn(10, 10) * 5\n",
    "t"
   ]
  },
  {
   "cell_type": "code",
   "execution_count": 13,
   "metadata": {},
   "outputs": [
    {
     "data": {
      "text/plain": [
       "tensor([[1.0955e-02, 1.1924e-01, 8.2203e-01, 4.9603e-05, 6.0357e-03, 3.6207e-04,\n",
       "         2.5931e-04, 1.2810e-02, 9.0057e-03, 1.9255e-02],\n",
       "        [1.9963e-03, 1.2524e-01, 6.4508e-01, 2.1997e-03, 2.4266e-06, 9.9151e-06,\n",
       "         2.4487e-03, 2.5586e-09, 9.9285e-02, 1.2374e-01],\n",
       "        [2.2293e-02, 3.1347e-05, 1.3609e-01, 1.5449e-05, 5.1367e-04, 3.4137e-02,\n",
       "         2.2125e-06, 2.3408e-03, 8.8871e-05, 8.0449e-01],\n",
       "        [2.0919e-08, 5.4441e-03, 5.5972e-09, 2.0367e-09, 9.0450e-10, 9.9420e-01,\n",
       "         2.5752e-04, 8.9209e-05, 7.5730e-07, 3.4521e-06],\n",
       "        [3.1801e-05, 2.1740e-07, 7.1204e-05, 4.3179e-05, 3.1476e-04, 3.1398e-05,\n",
       "         3.9788e-06, 9.9950e-01, 4.3867e-07, 1.1583e-07],\n",
       "        [1.0910e-03, 6.6099e-05, 4.1733e-06, 1.3596e-06, 5.7385e-05, 3.7057e-03,\n",
       "         1.7537e-07, 9.9507e-01, 1.0871e-07, 4.4961e-07],\n",
       "        [9.2616e-05, 4.8962e-05, 7.3781e-06, 2.7167e-05, 9.9576e-01, 1.5193e-06,\n",
       "         2.5473e-05, 8.9604e-05, 3.9003e-03, 4.7553e-05],\n",
       "        [5.7767e-05, 1.4033e-07, 3.1420e-07, 3.3898e-06, 4.9906e-03, 1.1490e-05,\n",
       "         4.3925e-03, 3.5500e-03, 6.8023e-01, 3.0677e-01],\n",
       "        [1.4345e-04, 4.3008e-04, 3.5097e-01, 1.3873e-05, 6.3764e-08, 2.4112e-06,\n",
       "         6.4785e-01, 5.8379e-04, 5.9554e-06, 1.7705e-06],\n",
       "        [2.6544e-04, 9.5198e-04, 2.1169e-04, 2.5818e-03, 1.2704e-01, 3.5476e-08,\n",
       "         3.2496e-05, 1.0285e-01, 7.6606e-01, 4.9369e-06]])"
      ]
     },
     "execution_count": 13,
     "metadata": {},
     "output_type": "execute_result"
    }
   ],
   "source": [
    "a = torch.FloatTensor(t)\n",
    "p = nfunc.softmax(a, dim=1)\n",
    "p"
   ]
  },
  {
   "cell_type": "code",
   "execution_count": 14,
   "metadata": {},
   "outputs": [],
   "source": [
    "l = torch.nn.BatchNorm1d(10, affine=False)\n",
    "\n",
    "ba = l(a)"
   ]
  },
  {
   "cell_type": "code",
   "execution_count": 19,
   "metadata": {},
   "outputs": [
    {
     "data": {
      "text/plain": [
       "tensor([ 0.0786,  0.0822,  0.1352, -0.1755,  0.0518, -0.0027,  0.0306,  0.2917,\n",
       "         0.1404,  0.0737])"
      ]
     },
     "execution_count": 19,
     "metadata": {},
     "output_type": "execute_result"
    }
   ],
   "source": [
    "l.running_mean"
   ]
  },
  {
   "cell_type": "code",
   "execution_count": 15,
   "metadata": {},
   "outputs": [
    {
     "data": {
      "text/plain": [
       "tensor([[-2.3502e-01,  4.0917e-01,  5.7462e-01, -1.1965e+00, -1.8563e-01,\n",
       "         -5.5275e-01, -1.0568e+00, -4.1151e-01, -3.4965e-01, -3.2298e-02],\n",
       "        [-1.7226e-01,  9.1540e-01,  8.9555e-01,  6.8428e-01, -1.1850e+00,\n",
       "         -8.3021e-01,  3.1425e-02, -2.4384e+00,  6.0170e-01,  7.4690e-01],\n",
       "        [ 1.6949e+00, -2.7219e-01,  1.3089e+00,  2.6948e-01,  3.4622e-01,\n",
       "          1.1149e+00, -8.3527e-01,  1.7470e-01, -1.3080e-01,  1.8993e+00],\n",
       "        [-2.0533e+00,  1.4768e+00, -1.6586e+00, -2.1488e+00, -1.6227e+00,\n",
       "          1.9321e+00,  8.3158e-01, -7.4574e-02, -8.2871e-01, -3.2433e-01],\n",
       "        [-2.5680e-01, -1.5163e+00, -1.1575e-01,  6.6184e-01,  2.9069e-01,\n",
       "         -6.6348e-03, -6.3923e-01,  1.1070e+00, -1.2680e+00, -1.3247e+00],\n",
       "        [ 1.5901e+00,  6.1247e-01, -1.7816e-01,  3.4995e-01,  4.2779e-01,\n",
       "          1.1894e+00, -7.9878e-01,  1.4831e+00, -1.0212e+00, -5.2465e-01],\n",
       "        [-2.6898e-02, -1.9688e-01, -6.1343e-01,  4.0466e-01,  1.5999e+00,\n",
       "         -5.5585e-01, -2.3559e-01, -3.3772e-01,  6.7009e-01, -1.4581e-01],\n",
       "        [-4.7631e-01, -1.9698e+00, -1.4142e+00, -6.1190e-01,  5.3547e-01,\n",
       "         -3.8777e-01,  8.5186e-01,  6.4049e-02,  1.5891e+00,  1.4612e+00],\n",
       "        [ 5.9981e-04,  2.7527e-01,  1.3946e+00,  6.8260e-02, -1.2594e+00,\n",
       "         -5.3707e-01,  2.3312e+00, -1.0882e-01, -8.3857e-01, -8.9804e-01],\n",
       "        [-6.4989e-02,  2.6606e-01, -1.9362e-01,  1.5188e+00,  1.0527e+00,\n",
       "         -1.3662e+00, -4.8036e-01,  5.4210e-01,  1.5760e+00, -8.5766e-01]])"
      ]
     },
     "execution_count": 15,
     "metadata": {},
     "output_type": "execute_result"
    }
   ],
   "source": [
    "ba"
   ]
  },
  {
   "cell_type": "code",
   "execution_count": 16,
   "metadata": {},
   "outputs": [
    {
     "data": {
      "text/plain": [
       "tensor([[0.0934, 0.1779, 0.2099, 0.0357, 0.0981, 0.0680, 0.0411, 0.0783, 0.0833,\n",
       "         0.1144],\n",
       "        [0.0620, 0.1841, 0.1805, 0.1461, 0.0225, 0.0321, 0.0761, 0.0064, 0.1345,\n",
       "         0.1556],\n",
       "        [0.2190, 0.0306, 0.1489, 0.0527, 0.0569, 0.1226, 0.0174, 0.0479, 0.0353,\n",
       "         0.2687],\n",
       "        [0.0079, 0.2686, 0.0117, 0.0072, 0.0121, 0.4236, 0.1409, 0.0569, 0.0268,\n",
       "         0.0444],\n",
       "        [0.0754, 0.0214, 0.0869, 0.1890, 0.1304, 0.0969, 0.0515, 0.2951, 0.0274,\n",
       "         0.0259],\n",
       "        [0.2498, 0.0940, 0.0426, 0.0723, 0.0781, 0.1673, 0.0229, 0.2245, 0.0183,\n",
       "         0.0301],\n",
       "        [0.0711, 0.0600, 0.0396, 0.1095, 0.3619, 0.0419, 0.0577, 0.0521, 0.1428,\n",
       "         0.0632],\n",
       "        [0.0375, 0.0084, 0.0147, 0.0328, 0.1032, 0.0410, 0.1416, 0.0644, 0.2960,\n",
       "         0.2604],\n",
       "        [0.0493, 0.0648, 0.1985, 0.0527, 0.0140, 0.0288, 0.5065, 0.0441, 0.0213,\n",
       "         0.0201],\n",
       "        [0.0511, 0.0711, 0.0449, 0.2489, 0.1561, 0.0139, 0.0337, 0.0937, 0.2635,\n",
       "         0.0231]])"
      ]
     },
     "execution_count": 16,
     "metadata": {},
     "output_type": "execute_result"
    }
   ],
   "source": [
    "bp = nfunc.softmax(ba, dim=1)\n",
    "bp"
   ]
  },
  {
   "cell_type": "code",
   "execution_count": 20,
   "metadata": {},
   "outputs": [],
   "source": [
    "case = np.zeros((10, 10))\n",
    "for i in range(10):\n",
    "    case[i][0] = i + 1"
   ]
  },
  {
   "cell_type": "code",
   "execution_count": 22,
   "metadata": {},
   "outputs": [
    {
     "data": {
      "text/plain": [
       "tensor([[2.3197e-01, 8.5337e-02, 8.5337e-02, 8.5337e-02, 8.5337e-02, 8.5337e-02,\n",
       "         8.5337e-02, 8.5337e-02, 8.5337e-02, 8.5337e-02],\n",
       "        [4.5085e-01, 6.1016e-02, 6.1016e-02, 6.1016e-02, 6.1016e-02, 6.1016e-02,\n",
       "         6.1016e-02, 6.1016e-02, 6.1016e-02, 6.1016e-02],\n",
       "        [6.9057e-01, 3.4381e-02, 3.4381e-02, 3.4381e-02, 3.4381e-02, 3.4381e-02,\n",
       "         3.4381e-02, 3.4381e-02, 3.4381e-02, 3.4381e-02],\n",
       "        [8.5849e-01, 1.5724e-02, 1.5724e-02, 1.5724e-02, 1.5724e-02, 1.5724e-02,\n",
       "         1.5724e-02, 1.5724e-02, 1.5724e-02, 1.5724e-02],\n",
       "        [9.4283e-01, 6.3527e-03, 6.3527e-03, 6.3527e-03, 6.3527e-03, 6.3527e-03,\n",
       "         6.3527e-03, 6.3527e-03, 6.3527e-03, 6.3527e-03],\n",
       "        [9.7818e-01, 2.4247e-03, 2.4247e-03, 2.4247e-03, 2.4247e-03, 2.4247e-03,\n",
       "         2.4247e-03, 2.4247e-03, 2.4247e-03, 2.4247e-03],\n",
       "        [9.9186e-01, 9.0446e-04, 9.0446e-04, 9.0446e-04, 9.0446e-04, 9.0446e-04,\n",
       "         9.0446e-04, 9.0446e-04, 9.0446e-04, 9.0446e-04],\n",
       "        [9.9699e-01, 3.3445e-04, 3.3445e-04, 3.3445e-04, 3.3445e-04, 3.3445e-04,\n",
       "         3.3445e-04, 3.3445e-04, 3.3445e-04, 3.3445e-04],\n",
       "        [9.9889e-01, 1.2327e-04, 1.2327e-04, 1.2327e-04, 1.2327e-04, 1.2327e-04,\n",
       "         1.2327e-04, 1.2327e-04, 1.2327e-04, 1.2327e-04],\n",
       "        [9.9959e-01, 4.5381e-05, 4.5381e-05, 4.5381e-05, 4.5381e-05, 4.5381e-05,\n",
       "         4.5381e-05, 4.5381e-05, 4.5381e-05, 4.5381e-05]])"
      ]
     },
     "execution_count": 22,
     "metadata": {},
     "output_type": "execute_result"
    }
   ],
   "source": [
    "nfunc.softmax(torch.FloatTensor(case), dim=1)"
   ]
  }
 ],
 "metadata": {
  "kernelspec": {
   "display_name": "Python 3",
   "language": "python",
   "name": "python3"
  },
  "language_info": {
   "codemirror_mode": {
    "name": "ipython",
    "version": 3
   },
   "file_extension": ".py",
   "mimetype": "text/x-python",
   "name": "python",
   "nbconvert_exporter": "python",
   "pygments_lexer": "ipython3",
   "version": "3.6.4"
  }
 },
 "nbformat": 4,
 "nbformat_minor": 2
}
