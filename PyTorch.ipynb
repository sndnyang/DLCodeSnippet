{
 "cells": [
  {
   "cell_type": "markdown",
   "metadata": {},
   "source": [
    "# Advanced index by torch.gather\n",
    "\n"
   ]
  },
  {
   "cell_type": "markdown",
   "metadata": {},
   "source": [
    "\n",
    "\n",
    "    torch.gather(input, dim, index, out=None) ? Tensor\n",
    "\n",
    "        Gathers values along an axis specified by dim.\n",
    "\n",
    "        For a 3-D tensor the output is specified by:\n",
    "\n",
    "        out[i][j][k] = input[index[i][j][k]][j][k]  # dim=0\n",
    "        out[i][j][k] = input[i][index[i][j][k]][k]  # dim=1\n",
    "        out[i][j][k] = input[i][j][index[i][j][k]]  # dim=2\n",
    "\n",
    "        Parameters: \n",
    "\n",
    "            input (Tensor) ? The source tensor\n",
    "            dim (int) ? The axis along which to index\n",
    "            index (LongTensor) ? The indices of elements to gather\n",
    "            out (Tensor, optional) ? Destination tensor\n",
    "\n",
    "        Example:\n",
    "\n",
    "        >>> t = torch.Tensor([[1,2],[3,4]])\n",
    "        >>> torch.gather(t, 1, torch.LongTensor([[0,0],[1,0]]))\n",
    "         1  1\n",
    "         4  3\n",
    "        [torch.FloatTensor of size 2x2]\n",
    "\n"
   ]
  },
  {
   "cell_type": "code",
   "execution_count": 1,
   "metadata": {},
   "outputs": [],
   "source": [
    "import torch\n",
    "import torch.nn.functional as nfunc"
   ]
  },
  {
   "cell_type": "code",
   "execution_count": 2,
   "metadata": {},
   "outputs": [],
   "source": [
    "p = torch.rand((10, 10))"
   ]
  },
  {
   "cell_type": "code",
   "execution_count": null,
   "metadata": {},
   "outputs": [],
   "source": []
  }
 ],
 "metadata": {
  "kernelspec": {
   "display_name": "Python 3",
   "language": "python",
   "name": "python3"
  },
  "language_info": {
   "codemirror_mode": {
    "name": "ipython",
    "version": 3
   },
   "file_extension": ".py",
   "mimetype": "text/x-python",
   "name": "python",
   "nbconvert_exporter": "python",
   "pygments_lexer": "ipython3",
   "version": "3.6.4"
  }
 },
 "nbformat": 4,
 "nbformat_minor": 2
}
