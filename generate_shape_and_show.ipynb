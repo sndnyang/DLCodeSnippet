{
 "cells": [
  {
   "cell_type": "markdown",
   "metadata": {},
   "source": [
    "# load from synthetic datasets"
   ]
  },
  {
   "cell_type": "code",
   "execution_count": 20,
   "metadata": {
    "ExecuteTime": {
     "end_time": "2019-07-10T14:09:10.212624Z",
     "start_time": "2019-07-10T14:09:10.189023Z"
    }
   },
   "outputs": [],
   "source": [
    "import os\n",
    "import argparse\n",
    "\n",
    "from numpy import linalg\n",
    "import torch\n",
    "\n",
    "import numpy as np\n",
    "import matplotlib.pyplot as plt\n",
    "import matplotlib.patches as plot_patch\n",
    "import torch.nn as nn\n",
    "from torch import optim\n",
    "import torch.nn.functional as nfunc\n",
    "import torch.utils.data as data_util\n",
    "from six.moves import cPickle"
   ]
  },
  {
   "cell_type": "code",
   "execution_count": 25,
   "metadata": {
    "ExecuteTime": {
     "end_time": "2019-07-10T14:11:09.331529Z",
     "start_time": "2019-07-10T14:11:09.307790Z"
    }
   },
   "outputs": [
    {
     "name": "stdout",
     "output_type": "stream",
     "text": [
      "The autoreload extension is already loaded. To reload it, use:\n",
      "  %reload_ext autoreload\n"
     ]
    }
   ],
   "source": [
    "%load_ext autoreload\n",
    "%autoreload 2\n",
    "\n",
    "from ExpUtils import *\n",
    "from torch_func.utils import set_framework_seed, weights_init_uniform\n",
    "from torch_func.evaluate import evaluate_classifier"
   ]
  },
  {
   "cell_type": "markdown",
   "metadata": {},
   "source": [
    "# args"
   ]
  },
  {
   "cell_type": "code",
   "execution_count": 23,
   "metadata": {
    "ExecuteTime": {
     "end_time": "2019-07-10T14:10:37.202692Z",
     "start_time": "2019-07-10T14:10:37.177792Z"
    }
   },
   "outputs": [],
   "source": [
    "args = argparse.Namespace()\n",
    "args.alpha = 0.1\n",
    "args.batch_size = 32\n",
    "args.beta = 0.66\n",
    "args.cuda = True\n",
    "args.data_dir = \"/home/xyang2/project/data/dataset\"\n",
    "args.dataset = \"1\"\n",
    "args.debug = False\n",
    "args.device = torch.device('cuda')\n",
    "args.dir_path = \"/home/xyang2/project/runs/L0VAT-semi/syndata-1/ce-lr=1.0-lr_decay=0.995|29627_101000\"\n",
    "args.ent_min = False\n",
    "args.epoch_decay_start = 80\n",
    "args.eps = 0.5\n",
    "args.exp_marker = \"ce-lr=1.0-lr_decay=0.995\"\n",
    "args.gamma = -0.1\n",
    "args.gpu_id = \"1\"\n",
    "args.iterations = 1000\n",
    "args.k = 1\n",
    "args.kl = 1\n",
    "args.lamb = 1.0\n",
    "args.lamb2 = 0.0\n",
    "args.log_arg = \"trainer-lr-lr_decay\"\n",
    "args.log_dir = \"\"\n",
    "args.log_interval = 1\n",
    "args.lr = 1.0\n",
    "args.lr_a = 1e-06\n",
    "args.lr_decay = 0.995\n",
    "args.no_cuda = False\n",
    "args.resume = \"\"\n",
    "args.seed = 1\n",
    "args.times = 2\n",
    "args.trainer = \"ce\"\n",
    "args.ul_batch_size = 128\n",
    "args.vis = True\n",
    "args.xi = 1e-6\n",
    "args.zeta = 1.1"
   ]
  },
  {
   "cell_type": "markdown",
   "metadata": {},
   "source": [
    "# model"
   ]
  },
  {
   "cell_type": "code",
   "execution_count": 4,
   "metadata": {
    "ExecuteTime": {
     "end_time": "2019-07-10T13:56:58.248190Z",
     "start_time": "2019-07-10T13:56:58.241598Z"
    }
   },
   "outputs": [],
   "source": [
    "class MLPSyn(nn.Module):\n",
    "    def __init__(self, out=2):\n",
    "        super(MLPSyn, self).__init__()\n",
    "        self.l1 = nn.Linear(100, 100)\n",
    "        self.l2 = nn.Linear(100, out)\n",
    "\n",
    "    def forward(self, h, update_batch_stats=True):\n",
    "        h = self.l1(h)\n",
    "        h = nfunc.relu(h)\n",
    "        h = self.l2(h)\n",
    "        logits = h\n",
    "        return logits\n",
    "    \n"
   ]
  },
  {
   "cell_type": "markdown",
   "metadata": {},
   "source": [
    "# load data"
   ]
  },
  {
   "cell_type": "code",
   "execution_count": 58,
   "metadata": {
    "ExecuteTime": {
     "end_time": "2019-07-10T19:22:29.866307Z",
     "start_time": "2019-07-10T19:22:29.168828Z"
    },
    "scrolled": false
   },
   "outputs": [
    {
     "name": "stderr",
     "output_type": "stream",
     "text": [
      "07-10 15:22:29: <ipython-input-35-ecce8164c7aa>[77]: error rate 0.04, loss 0.13973\n"
     ]
    },
    {
     "data": {
      "image/png": "[encoded data removed]",
      "text/plain": [
       "<Figure size 360x360 with 1 Axes>"
      ]
     },
     "metadata": {
      "needs_background": "light"
     },
     "output_type": "display_data"
    }
   ],
   "source": [
    "def get_data(args):\n",
    "    with open('%s/syndata_%s.pkl' % (args.data_dir, args.dataset), \"rb\") as f:\n",
    "        if sys.version_info.major == 3:\n",
    "            dataset = cPickle.load(f, encoding='bytes')\n",
    "        else:\n",
    "            dataset = cPickle.load(f)\n",
    "\n",
    "    # r,b,b,r,b,r,b,r\n",
    "    index = [1, 2, 3, 4, 7, 8, 10, 13]\n",
    "    x_train = torch.FloatTensor(np.asarray(dataset[0][0][0][index]))\n",
    "    t_train = torch.LongTensor(np.asarray(dataset[0][0][1][index]))\n",
    "    x_valid = torch.FloatTensor(np.asarray(dataset[0][1][0]))\n",
    "    t_valid = torch.LongTensor(np.asarray(dataset[0][1][1]))\n",
    "\n",
    "    train_loader = data_util.DataLoader(data_util.TensorDataset(x_train, t_train), 128, False)\n",
    "    valid_loader = data_util.DataLoader(data_util.TensorDataset(x_valid, t_valid), 128, False)\n",
    "    return x_train, t_train, x_valid, t_valid, train_loader, valid_loader, dataset\n",
    "\n",
    "dataset_kit = get_data(args)\n",
    "x_train, t_train, x_valid, t_valid, train_loader, valid_loader, dataset = dataset_kit\n",
    "visualize_contour_semi(model, args.dataset, x_train, t_train, x_valid, t_valid, dataset[1], valid_loader, \n",
    "                       args, save_filename=None, show_contour=False )"
   ]
  },
  {
   "cell_type": "code",
   "execution_count": 48,
   "metadata": {
    "ExecuteTime": {
     "end_time": "2019-07-10T19:13:07.605402Z",
     "start_time": "2019-07-10T19:13:06.938872Z"
    }
   },
   "outputs": [
    {
     "name": "stderr",
     "output_type": "stream",
     "text": [
      "07-10 15:13:07: <ipython-input-35-ecce8164c7aa>[77]: error rate 0.04, loss 0.13973\n"
     ]
    },
    {
     "data": {
      "image/png": "[encoded data removed]",
      "text/plain": [
       "<Figure size 360x360 with 1 Axes>"
      ]
     },
     "metadata": {
      "needs_background": "light"
     },
     "output_type": "display_data"
    }
   ],
   "source": [
    "dataset_kit = get_data(args)\n",
    "x_train, t_train, x_valid, t_valid, train_loader, valid_loader, dataset = dataset_kit\n",
    "visualize_contour_semi(model, args.dataset, x_train, t_train, x_valid, t_valid, dataset[1], valid_loader, \n",
    "                       args, save_filename=None, show_contour=False )"
   ]
  },
  {
   "cell_type": "code",
   "execution_count": 42,
   "metadata": {
    "ExecuteTime": {
     "end_time": "2019-07-10T19:10:28.291641Z",
     "start_time": "2019-07-10T19:10:27.738380Z"
    }
   },
   "outputs": [
    {
     "name": "stderr",
     "output_type": "stream",
     "text": [
      "07-10 15:10:27: <ipython-input-35-ecce8164c7aa>[77]: error rate 0.04, loss 0.13973\n"
     ]
    },
    {
     "data": {
      "image/png": "[encoded data removed]",
      "text/plain": [
       "<Figure size 360x360 with 1 Axes>"
      ]
     },
     "metadata": {
      "needs_background": "light"
     },
     "output_type": "display_data"
    }
   ],
   "source": [
    "dataset_kit = get_data(args)\n",
    "x_train, t_train, x_valid, t_valid, train_loader, valid_loader, dataset = dataset_kit\n",
    "visualize_contour_semi(model, args.dataset, x_train, t_train, x_valid, t_valid, dataset[1], valid_loader, \n",
    "                       args, save_filename=None, show_contour=False )"
   ]
  },
  {
   "cell_type": "markdown",
   "metadata": {
    "ExecuteTime": {
     "end_time": "2019-07-10T14:03:35.797575Z",
     "start_time": "2019-07-10T14:03:35.783255Z"
    }
   },
   "source": [
    "# init model"
   ]
  },
  {
   "cell_type": "code",
   "execution_count": 6,
   "metadata": {
    "ExecuteTime": {
     "end_time": "2019-07-10T13:58:21.566294Z",
     "start_time": "2019-07-10T13:58:21.556004Z"
    }
   },
   "outputs": [],
   "source": [
    "def init_model(args):\n",
    "    model = MLPSyn(4 if args.dataset == \"3\" else 2)\n",
    "    model.apply(weights_init_uniform)\n",
    "    model = model.to(args.device)\n",
    "    generator = None\n",
    "    if 'ce' == args.trainer:\n",
    "        optimizer = optim.SGD(model.parameters(), lr=args.lr, momentum=0.9)\n",
    "    else:\n",
    "        optimizer = optim.Adam(model.parameters(), lr=args.lr)\n",
    "\n",
    "    scheduler = optim.lr_scheduler.StepLR(optimizer, step_size=1, gamma=args.lr_decay)\n",
    "    return model, optimizer, scheduler"
   ]
  },
  {
   "cell_type": "markdown",
   "metadata": {},
   "source": [
    "# VAT code"
   ]
  },
  {
   "cell_type": "code",
   "execution_count": 21,
   "metadata": {
    "ExecuteTime": {
     "end_time": "2019-07-10T14:09:39.440047Z",
     "start_time": "2019-07-10T14:09:39.389379Z"
    }
   },
   "outputs": [],
   "source": [
    "def l2_normalize(d):\n",
    "    t = d.clone()    # remove from the computing graph\n",
    "    # norm = torch.sqrt(torch.sum(t.view(d.shape[0], -1) ** 2, dim=1))\n",
    "    norm = torch.norm(t.view(d.shape[0], -1), p=2, dim=1)\n",
    "    if len(t.shape) < 1:\n",
    "        raise NotImplementedError\n",
    "    # shape [128] -> [128, 1, 1, 1] to match the images' shape [128, c, h, w]\n",
    "    target_shape = [1] * len(t.shape)\n",
    "    target_shape[0] = -1\n",
    "    normed_d = t / (norm.view(target_shape) + 1e-10)\n",
    "    return normed_d\n",
    "\n",
    "\n",
    "def entropy(logits):\n",
    "    p = nfunc.softmax(logits, dim=1)\n",
    "    return torch.mean(torch.sum(p * nfunc.log_softmax(logits, dim=1), dim=1))\n",
    "\n",
    "\n",
    "class VAT(object):\n",
    "\n",
    "    def __init__(self, args):\n",
    "        self.args = args\n",
    "        self.device = args.device\n",
    "        self.xi = args.xi\n",
    "        self.eps = args.eps\n",
    "        self.k = args.k\n",
    "        self.debug = args.debug\n",
    "        # PyTorch Version difference\n",
    "        try:\n",
    "            self.kl_div = nn.KLDivLoss(reduction='none')\n",
    "        except TypeError:\n",
    "            self.kl_div = nn.KLDivLoss(size_average=False, reduce=False)\n",
    "        self.use_ent_min = args.ent_min\n",
    "\n",
    "    def __call__(self, model, image, kl_way=0):\n",
    "        logits = model(image, update_batch_stats=False)\n",
    "\n",
    "        prob_x = nfunc.softmax(logits.detach(), dim=1)\n",
    "        log_prob_x = nfunc.log_softmax(logits.detach(), dim=1)\n",
    "        if self.debug:\n",
    "            # np generator is more controllable than torch.randn(image.size())\n",
    "            d = np.random.standard_normal(image.size())\n",
    "            d = l2_normalize(torch.FloatTensor(d).to(self.device))\n",
    "        else:\n",
    "            d = torch.randn(image.size(), device=self.args.device)\n",
    "            d = l2_normalize(d)\n",
    "\n",
    "\n",
    "        for ip in range(self.k):\n",
    "            d *= self.xi\n",
    "            d.requires_grad = True\n",
    "            t = image.detach()\n",
    "            x_hat = t + d\n",
    "            logits_x_hat = model(x_hat, update_batch_stats=False)\n",
    "            if kl_way == 1:\n",
    "                prob_x_hat = torch.exp(nfunc.log_softmax(logits_x_hat, dim=1))\n",
    "                adv_distance = torch.mean(self.kl_div(log_prob_x, prob_x_hat).sum(dim=1))\n",
    "            else:\n",
    "                # official theano code compute in this way\n",
    "                log_prob_x_hat = nfunc.log_softmax(logits_x_hat, dim=1)\n",
    "                adv_distance = torch.mean(torch.sum(- prob_x * log_prob_x_hat, dim=1))\n",
    "            # use backward, compute grad on Image and Model weight, use grad, not compute grad on model's weight.\n",
    "            adv_distance.backward()\n",
    "            grad_x_hat = d.grad     # / self.xi\n",
    "            # grad_x_hat = torch.autograd.grad(adv_distance, d)[0]\n",
    "            # scale it or not, since it will pass through _l2_normalize, but maybe numerical issues\n",
    "            d = l2_normalize(grad_x_hat).to(self.device)\n",
    "\n",
    "        logits_x_hat = model(image + self.eps * d, update_batch_stats=False)\n",
    "        if kl_way == 1:\n",
    "            prob_x_hat = torch.exp(nfunc.log_softmax(logits_x_hat, dim=1))\n",
    "            lds = torch.mean(self.kl_div(log_prob_x, prob_x_hat).sum(dim=1))\n",
    "        else:\n",
    "            # official theano code works in this way\n",
    "            log_prob_x_hat = nfunc.log_softmax(logits_x_hat, dim=1)\n",
    "            lds = torch.mean(torch.sum(- prob_x * log_prob_x_hat, dim=1))\n",
    "\n",
    "        if self.use_ent_min:\n",
    "            # if detach_way == 1, the KL divergence contains this part.\n",
    "            lds += entropy(prob_x)\n",
    "\n",
    "        return lds"
   ]
  },
  {
   "cell_type": "markdown",
   "metadata": {},
   "source": [
    "# train code"
   ]
  },
  {
   "cell_type": "code",
   "execution_count": 26,
   "metadata": {
    "ExecuteTime": {
     "end_time": "2019-07-10T14:11:49.211885Z",
     "start_time": "2019-07-10T14:11:12.747708Z"
    }
   },
   "outputs": [
    {
     "name": "stderr",
     "output_type": "stream",
     "text": [
      "07-10 10:11:12: <ipython-input-26-2669def9777a>[49]: iteration 10, train loss 0.273421, test error rate 0.169 and test loss 0.344407\n",
      "07-10 10:11:12: <ipython-input-26-2669def9777a>[50]: lr 0.946355\n",
      "07-10 10:11:13: <ipython-input-3-04fdbeb64786>[76]: error rate 0.169, loss 0.344407\n",
      "07-10 10:11:13: <ipython-input-26-2669def9777a>[49]: iteration 20, train loss 0.178947, test error rate 0.117 and test loss 0.318502\n",
      "07-10 10:11:13: <ipython-input-26-2669def9777a>[50]: lr 0.900087\n",
      "07-10 10:11:13: <ipython-input-3-04fdbeb64786>[76]: error rate 0.117, loss 0.318502\n",
      "07-10 10:11:13: <ipython-input-26-2669def9777a>[49]: iteration 30, train loss 0.0390949, test error rate 0.068 and test loss 0.172159\n",
      "07-10 10:11:13: <ipython-input-26-2669def9777a>[50]: lr 0.856082\n",
      "07-10 10:11:14: <ipython-input-3-04fdbeb64786>[76]: error rate 0.068, loss 0.172159\n",
      "07-10 10:11:14: <ipython-input-26-2669def9777a>[49]: iteration 40, train loss 0.00557061, test error rate 0.061 and test loss 0.135032\n",
      "07-10 10:11:14: <ipython-input-26-2669def9777a>[50]: lr 0.814229\n",
      "07-10 10:11:14: <ipython-input-3-04fdbeb64786>[76]: error rate 0.061, loss 0.135032\n",
      "07-10 10:11:14: <ipython-input-26-2669def9777a>[49]: iteration 50, train loss 0.00192784, test error rate 0.052 and test loss 0.131895\n",
      "07-10 10:11:14: <ipython-input-26-2669def9777a>[50]: lr 0.774421\n",
      "07-10 10:11:14: <ipython-input-3-04fdbeb64786>[76]: error rate 0.052, loss 0.131895\n",
      "07-10 10:11:15: <ipython-input-26-2669def9777a>[49]: iteration 60, train loss 0.00113097, test error rate 0.042 and test loss 0.132736\n",
      "07-10 10:11:15: <ipython-input-26-2669def9777a>[50]: lr 0.73656\n",
      "07-10 10:11:15: <ipython-input-3-04fdbeb64786>[76]: error rate 0.042, loss 0.132736\n",
      "07-10 10:11:15: <ipython-input-26-2669def9777a>[49]: iteration 70, train loss 0.000868574, test error rate 0.042 and test loss 0.136337\n",
      "07-10 10:11:15: <ipython-input-26-2669def9777a>[50]: lr 0.700549\n",
      "07-10 10:11:15: <ipython-input-3-04fdbeb64786>[76]: error rate 0.042, loss 0.136337\n",
      "07-10 10:11:15: <ipython-input-26-2669def9777a>[49]: iteration 80, train loss 0.000740662, test error rate 0.042 and test loss 0.134447\n",
      "07-10 10:11:15: <ipython-input-26-2669def9777a>[50]: lr 0.6663\n",
      "07-10 10:11:16: <ipython-input-3-04fdbeb64786>[76]: error rate 0.042, loss 0.134447\n",
      "07-10 10:11:16: <ipython-input-26-2669def9777a>[49]: iteration 90, train loss 0.000666603, test error rate 0.041 and test loss 0.131087\n",
      "07-10 10:11:16: <ipython-input-26-2669def9777a>[50]: lr 0.633724\n",
      "07-10 10:11:16: <ipython-input-3-04fdbeb64786>[76]: error rate 0.041, loss 0.131087\n",
      "07-10 10:11:16: <ipython-input-26-2669def9777a>[49]: iteration 100, train loss 0.00061959, test error rate 0.04 and test loss 0.129855\n",
      "07-10 10:11:16: <ipython-input-26-2669def9777a>[50]: lr 0.602742\n",
      "07-10 10:11:16: <ipython-input-3-04fdbeb64786>[76]: error rate 0.04, loss 0.129855\n",
      "07-10 10:11:17: <ipython-input-26-2669def9777a>[49]: iteration 110, train loss 0.000583291, test error rate 0.041 and test loss 0.130717\n",
      "07-10 10:11:17: <ipython-input-26-2669def9777a>[50]: lr 0.573274\n",
      "07-10 10:11:17: <ipython-input-3-04fdbeb64786>[76]: error rate 0.041, loss 0.130717\n",
      "07-10 10:11:17: <ipython-input-26-2669def9777a>[49]: iteration 120, train loss 0.000554085, test error rate 0.04 and test loss 0.131387\n",
      "07-10 10:11:17: <ipython-input-26-2669def9777a>[50]: lr 0.545246\n",
      "07-10 10:11:17: <ipython-input-3-04fdbeb64786>[76]: error rate 0.04, loss 0.131387\n",
      "07-10 10:11:17: <ipython-input-26-2669def9777a>[49]: iteration 130, train loss 0.000529289, test error rate 0.04 and test loss 0.13171\n",
      "07-10 10:11:17: <ipython-input-26-2669def9777a>[50]: lr 0.518589\n",
      "07-10 10:11:17: <ipython-input-3-04fdbeb64786>[76]: error rate 0.04, loss 0.13171\n",
      "07-10 10:11:18: <ipython-input-26-2669def9777a>[49]: iteration 140, train loss 0.000508517, test error rate 0.04 and test loss 0.132174\n",
      "07-10 10:11:18: <ipython-input-26-2669def9777a>[50]: lr 0.493236\n",
      "07-10 10:11:18: <ipython-input-3-04fdbeb64786>[76]: error rate 0.04, loss 0.132174\n",
      "07-10 10:11:18: <ipython-input-26-2669def9777a>[49]: iteration 150, train loss 0.000490576, test error rate 0.04 and test loss 0.132838\n",
      "07-10 10:11:18: <ipython-input-26-2669def9777a>[50]: lr 0.469121\n",
      "07-10 10:11:18: <ipython-input-3-04fdbeb64786>[76]: error rate 0.04, loss 0.132838\n",
      "07-10 10:11:18: <ipython-input-26-2669def9777a>[49]: iteration 160, train loss 0.000474691, test error rate 0.041 and test loss 0.133718\n",
      "07-10 10:11:18: <ipython-input-26-2669def9777a>[50]: lr 0.446186\n",
      "07-10 10:11:18: <ipython-input-3-04fdbeb64786>[76]: error rate 0.041, loss 0.133718\n",
      "07-10 10:11:18: <ipython-input-26-2669def9777a>[49]: iteration 170, train loss 0.00046061, test error rate 0.041 and test loss 0.134238\n",
      "07-10 10:11:18: <ipython-input-26-2669def9777a>[50]: lr 0.424372\n",
      "07-10 10:11:19: <ipython-input-3-04fdbeb64786>[76]: error rate 0.041, loss 0.134238\n",
      "07-10 10:11:19: <ipython-input-26-2669def9777a>[49]: iteration 180, train loss 0.000447929, test error rate 0.042 and test loss 0.134657\n",
      "07-10 10:11:19: <ipython-input-26-2669def9777a>[50]: lr 0.403625\n",
      "07-10 10:11:19: <ipython-input-3-04fdbeb64786>[76]: error rate 0.042, loss 0.134657\n",
      "07-10 10:11:19: <ipython-input-26-2669def9777a>[49]: iteration 190, train loss 0.000436842, test error rate 0.042 and test loss 0.135052\n",
      "07-10 10:11:19: <ipython-input-26-2669def9777a>[50]: lr 0.383891\n",
      "07-10 10:11:19: <ipython-input-3-04fdbeb64786>[76]: error rate 0.042, loss 0.135052\n",
      "07-10 10:11:20: <ipython-input-26-2669def9777a>[49]: iteration 200, train loss 0.000427008, test error rate 0.042 and test loss 0.13539\n",
      "07-10 10:11:20: <ipython-input-26-2669def9777a>[50]: lr 0.365123\n",
      "07-10 10:11:20: <ipython-input-3-04fdbeb64786>[76]: error rate 0.042, loss 0.13539\n",
      "07-10 10:11:20: <ipython-input-26-2669def9777a>[49]: iteration 210, train loss 0.000418171, test error rate 0.042 and test loss 0.135661\n",
      "07-10 10:11:20: <ipython-input-26-2669def9777a>[50]: lr 0.347272\n",
      "07-10 10:11:20: <ipython-input-3-04fdbeb64786>[76]: error rate 0.042, loss 0.135661\n",
      "07-10 10:11:20: <ipython-input-26-2669def9777a>[49]: iteration 220, train loss 0.000410035, test error rate 0.042 and test loss 0.135949\n",
      "07-10 10:11:20: <ipython-input-26-2669def9777a>[50]: lr 0.330294\n",
      "07-10 10:11:20: <ipython-input-3-04fdbeb64786>[76]: error rate 0.042, loss 0.135949\n",
      "07-10 10:11:21: <ipython-input-26-2669def9777a>[49]: iteration 230, train loss 0.000402614, test error rate 0.042 and test loss 0.136227\n",
      "07-10 10:11:21: <ipython-input-26-2669def9777a>[50]: lr 0.314146\n",
      "07-10 10:11:21: <ipython-input-3-04fdbeb64786>[76]: error rate 0.042, loss 0.136227\n",
      "07-10 10:11:21: <ipython-input-26-2669def9777a>[49]: iteration 240, train loss 0.000395671, test error rate 0.042 and test loss 0.136471\n",
      "07-10 10:11:21: <ipython-input-26-2669def9777a>[50]: lr 0.298788\n",
      "07-10 10:11:21: <ipython-input-3-04fdbeb64786>[76]: error rate 0.042, loss 0.136471\n",
      "07-10 10:11:22: <ipython-input-26-2669def9777a>[49]: iteration 250, train loss 0.000389472, test error rate 0.042 and test loss 0.136697\n",
      "07-10 10:11:22: <ipython-input-26-2669def9777a>[50]: lr 0.28418\n",
      "07-10 10:11:22: <ipython-input-3-04fdbeb64786>[76]: error rate 0.042, loss 0.136697\n",
      "07-10 10:11:22: <ipython-input-26-2669def9777a>[49]: iteration 260, train loss 0.000383601, test error rate 0.042 and test loss 0.136913\n",
      "07-10 10:11:22: <ipython-input-26-2669def9777a>[50]: lr 0.270286\n",
      "07-10 10:11:22: <ipython-input-3-04fdbeb64786>[76]: error rate 0.042, loss 0.136913\n",
      "07-10 10:11:23: <ipython-input-26-2669def9777a>[49]: iteration 270, train loss 0.000378206, test error rate 0.042 and test loss 0.137089\n",
      "07-10 10:11:23: <ipython-input-26-2669def9777a>[50]: lr 0.257072\n",
      "07-10 10:11:23: <ipython-input-3-04fdbeb64786>[76]: error rate 0.042, loss 0.137089\n",
      "07-10 10:11:23: <ipython-input-26-2669def9777a>[49]: iteration 280, train loss 0.00037317, test error rate 0.042 and test loss 0.137294\n",
      "07-10 10:11:23: <ipython-input-26-2669def9777a>[50]: lr 0.244504\n",
      "07-10 10:11:23: <ipython-input-3-04fdbeb64786>[76]: error rate 0.042, loss 0.137294\n",
      "07-10 10:11:23: <ipython-input-26-2669def9777a>[49]: iteration 290, train loss 0.00036861, test error rate 0.041 and test loss 0.137407\n",
      "07-10 10:11:23: <ipython-input-26-2669def9777a>[50]: lr 0.23255\n",
      "07-10 10:11:23: <ipython-input-3-04fdbeb64786>[76]: error rate 0.041, loss 0.137407\n"
     ]
    },
    {
     "name": "stderr",
     "output_type": "stream",
     "text": [
      "07-10 10:11:24: <ipython-input-26-2669def9777a>[49]: iteration 300, train loss 0.000364333, test error rate 0.041 and test loss 0.13754\n",
      "07-10 10:11:24: <ipython-input-26-2669def9777a>[50]: lr 0.221181\n",
      "07-10 10:11:24: <ipython-input-3-04fdbeb64786>[76]: error rate 0.041, loss 0.13754\n",
      "07-10 10:11:24: <ipython-input-26-2669def9777a>[49]: iteration 310, train loss 0.000360325, test error rate 0.041 and test loss 0.137677\n",
      "07-10 10:11:24: <ipython-input-26-2669def9777a>[50]: lr 0.210367\n",
      "07-10 10:11:24: <ipython-input-3-04fdbeb64786>[76]: error rate 0.041, loss 0.137677\n",
      "07-10 10:11:24: <ipython-input-26-2669def9777a>[49]: iteration 320, train loss 0.000356629, test error rate 0.041 and test loss 0.137804\n",
      "07-10 10:11:24: <ipython-input-26-2669def9777a>[50]: lr 0.200082\n",
      "07-10 10:11:25: <ipython-input-3-04fdbeb64786>[76]: error rate 0.041, loss 0.137804\n",
      "07-10 10:11:25: <ipython-input-26-2669def9777a>[49]: iteration 330, train loss 0.000353202, test error rate 0.041 and test loss 0.137905\n",
      "07-10 10:11:25: <ipython-input-26-2669def9777a>[50]: lr 0.1903\n",
      "07-10 10:11:25: <ipython-input-3-04fdbeb64786>[76]: error rate 0.041, loss 0.137905\n",
      "07-10 10:11:25: <ipython-input-26-2669def9777a>[49]: iteration 340, train loss 0.000349984, test error rate 0.041 and test loss 0.138002\n",
      "07-10 10:11:25: <ipython-input-26-2669def9777a>[50]: lr 0.180997\n",
      "07-10 10:11:25: <ipython-input-3-04fdbeb64786>[76]: error rate 0.041, loss 0.138002\n",
      "07-10 10:11:26: <ipython-input-26-2669def9777a>[49]: iteration 350, train loss 0.000346959, test error rate 0.04 and test loss 0.138107\n",
      "07-10 10:11:26: <ipython-input-26-2669def9777a>[50]: lr 0.172148\n",
      "07-10 10:11:26: <ipython-input-3-04fdbeb64786>[76]: error rate 0.04, loss 0.138107\n",
      "07-10 10:11:26: <ipython-input-26-2669def9777a>[49]: iteration 360, train loss 0.000344068, test error rate 0.04 and test loss 0.138199\n",
      "07-10 10:11:26: <ipython-input-26-2669def9777a>[50]: lr 0.163731\n",
      "07-10 10:11:26: <ipython-input-3-04fdbeb64786>[76]: error rate 0.04, loss 0.138199\n",
      "07-10 10:11:26: <ipython-input-26-2669def9777a>[49]: iteration 370, train loss 0.000341445, test error rate 0.04 and test loss 0.138287\n",
      "07-10 10:11:26: <ipython-input-26-2669def9777a>[50]: lr 0.155727\n",
      "07-10 10:11:26: <ipython-input-3-04fdbeb64786>[76]: error rate 0.04, loss 0.138287\n",
      "07-10 10:11:27: <ipython-input-26-2669def9777a>[49]: iteration 380, train loss 0.000338942, test error rate 0.04 and test loss 0.138355\n",
      "07-10 10:11:27: <ipython-input-26-2669def9777a>[50]: lr 0.148113\n",
      "07-10 10:11:27: <ipython-input-3-04fdbeb64786>[76]: error rate 0.04, loss 0.138355\n",
      "07-10 10:11:27: <ipython-input-26-2669def9777a>[49]: iteration 390, train loss 0.000336677, test error rate 0.04 and test loss 0.138436\n",
      "07-10 10:11:27: <ipython-input-26-2669def9777a>[50]: lr 0.140872\n",
      "07-10 10:11:27: <ipython-input-3-04fdbeb64786>[76]: error rate 0.04, loss 0.138436\n",
      "07-10 10:11:27: <ipython-input-26-2669def9777a>[49]: iteration 400, train loss 0.000334516, test error rate 0.04 and test loss 0.13852\n",
      "07-10 10:11:27: <ipython-input-26-2669def9777a>[50]: lr 0.133985\n",
      "07-10 10:11:27: <ipython-input-3-04fdbeb64786>[76]: error rate 0.04, loss 0.13852\n",
      "07-10 10:11:28: <ipython-input-26-2669def9777a>[49]: iteration 410, train loss 0.000332445, test error rate 0.04 and test loss 0.138585\n",
      "07-10 10:11:28: <ipython-input-26-2669def9777a>[50]: lr 0.127434\n",
      "07-10 10:11:28: <ipython-input-3-04fdbeb64786>[76]: error rate 0.04, loss 0.138585\n",
      "07-10 10:11:28: <ipython-input-26-2669def9777a>[49]: iteration 420, train loss 0.000330478, test error rate 0.04 and test loss 0.138641\n",
      "07-10 10:11:28: <ipython-input-26-2669def9777a>[50]: lr 0.121204\n",
      "07-10 10:11:28: <ipython-input-3-04fdbeb64786>[76]: error rate 0.04, loss 0.138641\n",
      "07-10 10:11:28: <ipython-input-26-2669def9777a>[49]: iteration 430, train loss 0.00032866, test error rate 0.04 and test loss 0.138707\n",
      "07-10 10:11:28: <ipython-input-26-2669def9777a>[50]: lr 0.115278\n",
      "07-10 10:11:28: <ipython-input-3-04fdbeb64786>[76]: error rate 0.04, loss 0.138707\n",
      "07-10 10:11:29: <ipython-input-26-2669def9777a>[49]: iteration 440, train loss 0.000326931, test error rate 0.04 and test loss 0.138763\n",
      "07-10 10:11:29: <ipython-input-26-2669def9777a>[50]: lr 0.109642\n",
      "07-10 10:11:29: <ipython-input-3-04fdbeb64786>[76]: error rate 0.04, loss 0.138763\n",
      "07-10 10:11:29: <ipython-input-26-2669def9777a>[49]: iteration 450, train loss 0.000325337, test error rate 0.04 and test loss 0.138821\n",
      "07-10 10:11:29: <ipython-input-26-2669def9777a>[50]: lr 0.104282\n",
      "07-10 10:11:29: <ipython-input-3-04fdbeb64786>[76]: error rate 0.04, loss 0.138821\n",
      "07-10 10:11:29: <ipython-input-26-2669def9777a>[49]: iteration 460, train loss 0.000323817, test error rate 0.04 and test loss 0.138864\n",
      "07-10 10:11:29: <ipython-input-26-2669def9777a>[50]: lr 0.0991837\n",
      "07-10 10:11:29: <ipython-input-3-04fdbeb64786>[76]: error rate 0.04, loss 0.138864\n",
      "07-10 10:11:29: <ipython-input-26-2669def9777a>[49]: iteration 470, train loss 0.000322431, test error rate 0.04 and test loss 0.138911\n",
      "07-10 10:11:29: <ipython-input-26-2669def9777a>[50]: lr 0.0943346\n",
      "07-10 10:11:30: <ipython-input-3-04fdbeb64786>[76]: error rate 0.04, loss 0.138911\n",
      "07-10 10:11:30: <ipython-input-26-2669def9777a>[49]: iteration 480, train loss 0.00032109, test error rate 0.04 and test loss 0.138959\n",
      "07-10 10:11:30: <ipython-input-26-2669def9777a>[50]: lr 0.0897226\n",
      "07-10 10:11:30: <ipython-input-3-04fdbeb64786>[76]: error rate 0.04, loss 0.138959\n",
      "07-10 10:11:30: <ipython-input-26-2669def9777a>[49]: iteration 490, train loss 0.000319868, test error rate 0.04 and test loss 0.139001\n",
      "07-10 10:11:30: <ipython-input-26-2669def9777a>[50]: lr 0.0853361\n",
      "07-10 10:11:30: <ipython-input-3-04fdbeb64786>[76]: error rate 0.04, loss 0.139001\n",
      "07-10 10:11:31: <ipython-input-26-2669def9777a>[49]: iteration 500, train loss 0.000318587, test error rate 0.04 and test loss 0.139043\n",
      "07-10 10:11:31: <ipython-input-26-2669def9777a>[50]: lr 0.081164\n",
      "07-10 10:11:31: <ipython-input-3-04fdbeb64786>[76]: error rate 0.04, loss 0.139043\n",
      "07-10 10:11:31: <ipython-input-26-2669def9777a>[49]: iteration 510, train loss 0.000317469, test error rate 0.04 and test loss 0.139079\n",
      "07-10 10:11:31: <ipython-input-26-2669def9777a>[50]: lr 0.0771959\n",
      "07-10 10:11:31: <ipython-input-3-04fdbeb64786>[76]: error rate 0.04, loss 0.139079\n",
      "07-10 10:11:32: <ipython-input-26-2669def9777a>[49]: iteration 520, train loss 0.000316352, test error rate 0.04 and test loss 0.139114\n",
      "07-10 10:11:32: <ipython-input-26-2669def9777a>[50]: lr 0.0734218\n",
      "07-10 10:11:32: <ipython-input-3-04fdbeb64786>[76]: error rate 0.04, loss 0.139114\n",
      "07-10 10:11:32: <ipython-input-26-2669def9777a>[49]: iteration 530, train loss 0.000315353, test error rate 0.04 and test loss 0.139151\n",
      "07-10 10:11:32: <ipython-input-26-2669def9777a>[50]: lr 0.0698322\n",
      "07-10 10:11:32: <ipython-input-3-04fdbeb64786>[76]: error rate 0.04, loss 0.139151\n",
      "07-10 10:11:32: <ipython-input-26-2669def9777a>[49]: iteration 540, train loss 0.000314444, test error rate 0.04 and test loss 0.139185\n",
      "07-10 10:11:32: <ipython-input-26-2669def9777a>[50]: lr 0.0664181\n",
      "07-10 10:11:32: <ipython-input-3-04fdbeb64786>[76]: error rate 0.04, loss 0.139185\n",
      "07-10 10:11:33: <ipython-input-26-2669def9777a>[49]: iteration 550, train loss 0.000313446, test error rate 0.04 and test loss 0.139214\n",
      "07-10 10:11:33: <ipython-input-26-2669def9777a>[50]: lr 0.063171\n",
      "07-10 10:11:33: <ipython-input-3-04fdbeb64786>[76]: error rate 0.04, loss 0.139214\n",
      "07-10 10:11:33: <ipython-input-26-2669def9777a>[49]: iteration 560, train loss 0.000312641, test error rate 0.04 and test loss 0.139247\n",
      "07-10 10:11:33: <ipython-input-26-2669def9777a>[50]: lr 0.0600825\n",
      "07-10 10:11:33: <ipython-input-3-04fdbeb64786>[76]: error rate 0.04, loss 0.139247\n",
      "07-10 10:11:34: <ipython-input-26-2669def9777a>[49]: iteration 570, train loss 0.000311762, test error rate 0.04 and test loss 0.139269\n",
      "07-10 10:11:34: <ipython-input-26-2669def9777a>[50]: lr 0.0571451\n",
      "07-10 10:11:34: <ipython-input-3-04fdbeb64786>[76]: error rate 0.04, loss 0.139269\n",
      "07-10 10:11:34: <ipython-input-26-2669def9777a>[49]: iteration 580, train loss 0.000311002, test error rate 0.04 and test loss 0.139296\n",
      "07-10 10:11:34: <ipython-input-26-2669def9777a>[50]: lr 0.0543513\n",
      "07-10 10:11:34: <ipython-input-3-04fdbeb64786>[76]: error rate 0.04, loss 0.139296\n"
     ]
    },
    {
     "name": "stderr",
     "output_type": "stream",
     "text": [
      "07-10 10:11:34: <ipython-input-26-2669def9777a>[49]: iteration 590, train loss 0.000310287, test error rate 0.04 and test loss 0.139319\n",
      "07-10 10:11:34: <ipython-input-26-2669def9777a>[50]: lr 0.0516941\n",
      "07-10 10:11:34: <ipython-input-3-04fdbeb64786>[76]: error rate 0.04, loss 0.139319\n",
      "07-10 10:11:35: <ipython-input-26-2669def9777a>[49]: iteration 600, train loss 0.000309601, test error rate 0.04 and test loss 0.139344\n",
      "07-10 10:11:35: <ipython-input-26-2669def9777a>[50]: lr 0.0491668\n",
      "07-10 10:11:35: <ipython-input-3-04fdbeb64786>[76]: error rate 0.04, loss 0.139344\n",
      "07-10 10:11:35: <ipython-input-26-2669def9777a>[49]: iteration 610, train loss 0.00030899, test error rate 0.04 and test loss 0.139367\n",
      "07-10 10:11:35: <ipython-input-26-2669def9777a>[50]: lr 0.046763\n",
      "07-10 10:11:35: <ipython-input-3-04fdbeb64786>[76]: error rate 0.04, loss 0.139367\n",
      "07-10 10:11:36: <ipython-input-26-2669def9777a>[49]: iteration 620, train loss 0.000308335, test error rate 0.04 and test loss 0.139388\n",
      "07-10 10:11:36: <ipython-input-26-2669def9777a>[50]: lr 0.0444768\n",
      "07-10 10:11:36: <ipython-input-3-04fdbeb64786>[76]: error rate 0.04, loss 0.139388\n",
      "07-10 10:11:36: <ipython-input-26-2669def9777a>[49]: iteration 630, train loss 0.000307798, test error rate 0.04 and test loss 0.139411\n",
      "07-10 10:11:36: <ipython-input-26-2669def9777a>[50]: lr 0.0423023\n",
      "07-10 10:11:36: <ipython-input-3-04fdbeb64786>[76]: error rate 0.04, loss 0.139411\n",
      "07-10 10:11:36: <ipython-input-26-2669def9777a>[49]: iteration 640, train loss 0.000307247, test error rate 0.04 and test loss 0.139426\n",
      "07-10 10:11:36: <ipython-input-26-2669def9777a>[50]: lr 0.0402341\n",
      "07-10 10:11:36: <ipython-input-3-04fdbeb64786>[76]: error rate 0.04, loss 0.139426\n",
      "07-10 10:11:37: <ipython-input-26-2669def9777a>[49]: iteration 650, train loss 0.00030674, test error rate 0.04 and test loss 0.139443\n",
      "07-10 10:11:37: <ipython-input-26-2669def9777a>[50]: lr 0.0382671\n",
      "07-10 10:11:37: <ipython-input-3-04fdbeb64786>[76]: error rate 0.04, loss 0.139443\n",
      "07-10 10:11:37: <ipython-input-26-2669def9777a>[49]: iteration 660, train loss 0.000306189, test error rate 0.04 and test loss 0.139462\n",
      "07-10 10:11:37: <ipython-input-26-2669def9777a>[50]: lr 0.0363962\n",
      "07-10 10:11:37: <ipython-input-3-04fdbeb64786>[76]: error rate 0.04, loss 0.139462\n",
      "07-10 10:11:37: <ipython-input-26-2669def9777a>[49]: iteration 670, train loss 0.000305742, test error rate 0.04 and test loss 0.139479\n",
      "07-10 10:11:37: <ipython-input-26-2669def9777a>[50]: lr 0.0346168\n",
      "07-10 10:11:38: <ipython-input-3-04fdbeb64786>[76]: error rate 0.04, loss 0.139479\n",
      "07-10 10:11:38: <ipython-input-26-2669def9777a>[49]: iteration 680, train loss 0.000305295, test error rate 0.04 and test loss 0.139495\n",
      "07-10 10:11:38: <ipython-input-26-2669def9777a>[50]: lr 0.0329244\n",
      "07-10 10:11:38: <ipython-input-3-04fdbeb64786>[76]: error rate 0.04, loss 0.139495\n",
      "07-10 10:11:38: <ipython-input-26-2669def9777a>[49]: iteration 690, train loss 0.000304878, test error rate 0.04 and test loss 0.139507\n",
      "07-10 10:11:38: <ipython-input-26-2669def9777a>[50]: lr 0.0313147\n",
      "07-10 10:11:38: <ipython-input-3-04fdbeb64786>[76]: error rate 0.04, loss 0.139507\n",
      "07-10 10:11:38: <ipython-input-26-2669def9777a>[49]: iteration 700, train loss 0.000304505, test error rate 0.04 and test loss 0.139521\n",
      "07-10 10:11:38: <ipython-input-26-2669def9777a>[50]: lr 0.0297838\n",
      "07-10 10:11:39: <ipython-input-3-04fdbeb64786>[76]: error rate 0.04, loss 0.139521\n",
      "07-10 10:11:39: <ipython-input-26-2669def9777a>[49]: iteration 710, train loss 0.000304058, test error rate 0.04 and test loss 0.139536\n",
      "07-10 10:11:39: <ipython-input-26-2669def9777a>[50]: lr 0.0283276\n",
      "07-10 10:11:39: <ipython-input-3-04fdbeb64786>[76]: error rate 0.04, loss 0.139536\n",
      "07-10 10:11:39: <ipython-input-26-2669def9777a>[49]: iteration 720, train loss 0.000303671, test error rate 0.04 and test loss 0.139548\n",
      "07-10 10:11:39: <ipython-input-26-2669def9777a>[50]: lr 0.0269427\n",
      "07-10 10:11:39: <ipython-input-3-04fdbeb64786>[76]: error rate 0.04, loss 0.139548\n",
      "07-10 10:11:40: <ipython-input-26-2669def9777a>[49]: iteration 730, train loss 0.000303358, test error rate 0.04 and test loss 0.13956\n",
      "07-10 10:11:40: <ipython-input-26-2669def9777a>[50]: lr 0.0256255\n",
      "07-10 10:11:40: <ipython-input-3-04fdbeb64786>[76]: error rate 0.04, loss 0.13956\n",
      "07-10 10:11:40: <ipython-input-26-2669def9777a>[49]: iteration 740, train loss 0.000303045, test error rate 0.04 and test loss 0.13957\n",
      "07-10 10:11:40: <ipython-input-26-2669def9777a>[50]: lr 0.0243727\n",
      "07-10 10:11:40: <ipython-input-3-04fdbeb64786>[76]: error rate 0.04, loss 0.13957\n",
      "07-10 10:11:40: <ipython-input-26-2669def9777a>[49]: iteration 750, train loss 0.000302732, test error rate 0.04 and test loss 0.139581\n",
      "07-10 10:11:40: <ipython-input-26-2669def9777a>[50]: lr 0.0231811\n",
      "07-10 10:11:40: <ipython-input-3-04fdbeb64786>[76]: error rate 0.04, loss 0.139581\n",
      "07-10 10:11:41: <ipython-input-26-2669def9777a>[49]: iteration 760, train loss 0.000302464, test error rate 0.04 and test loss 0.139592\n",
      "07-10 10:11:41: <ipython-input-26-2669def9777a>[50]: lr 0.0220478\n",
      "07-10 10:11:41: <ipython-input-3-04fdbeb64786>[76]: error rate 0.04, loss 0.139592\n",
      "07-10 10:11:41: <ipython-input-26-2669def9777a>[49]: iteration 770, train loss 0.000302196, test error rate 0.04 and test loss 0.139602\n",
      "07-10 10:11:41: <ipython-input-26-2669def9777a>[50]: lr 0.0209698\n",
      "07-10 10:11:41: <ipython-input-3-04fdbeb64786>[76]: error rate 0.04, loss 0.139602\n",
      "07-10 10:11:41: <ipython-input-26-2669def9777a>[49]: iteration 780, train loss 0.000301912, test error rate 0.04 and test loss 0.139609\n",
      "07-10 10:11:41: <ipython-input-26-2669def9777a>[50]: lr 0.0199446\n",
      "07-10 10:11:41: <ipython-input-3-04fdbeb64786>[76]: error rate 0.04, loss 0.139609\n",
      "07-10 10:11:41: <ipython-input-26-2669def9777a>[49]: iteration 790, train loss 0.000301659, test error rate 0.04 and test loss 0.139618\n",
      "07-10 10:11:41: <ipython-input-26-2669def9777a>[50]: lr 0.0189695\n",
      "07-10 10:11:41: <ipython-input-3-04fdbeb64786>[76]: error rate 0.04, loss 0.139618\n",
      "07-10 10:11:42: <ipython-input-26-2669def9777a>[49]: iteration 800, train loss 0.00030145, test error rate 0.04 and test loss 0.139628\n",
      "07-10 10:11:42: <ipython-input-26-2669def9777a>[50]: lr 0.0180421\n",
      "07-10 10:11:42: <ipython-input-3-04fdbeb64786>[76]: error rate 0.04, loss 0.139628\n",
      "07-10 10:11:42: <ipython-input-26-2669def9777a>[49]: iteration 810, train loss 0.000301257, test error rate 0.04 and test loss 0.139636\n",
      "07-10 10:11:42: <ipython-input-26-2669def9777a>[50]: lr 0.01716\n",
      "07-10 10:11:42: <ipython-input-3-04fdbeb64786>[76]: error rate 0.04, loss 0.139636\n",
      "07-10 10:11:43: <ipython-input-26-2669def9777a>[49]: iteration 820, train loss 0.000300974, test error rate 0.04 and test loss 0.139643\n",
      "07-10 10:11:43: <ipython-input-26-2669def9777a>[50]: lr 0.0163211\n",
      "07-10 10:11:43: <ipython-input-3-04fdbeb64786>[76]: error rate 0.04, loss 0.139643\n",
      "07-10 10:11:43: <ipython-input-26-2669def9777a>[49]: iteration 830, train loss 0.000300765, test error rate 0.04 and test loss 0.13965\n",
      "07-10 10:11:43: <ipython-input-26-2669def9777a>[50]: lr 0.0155232\n",
      "07-10 10:11:43: <ipython-input-3-04fdbeb64786>[76]: error rate 0.04, loss 0.13965\n",
      "07-10 10:11:43: <ipython-input-26-2669def9777a>[49]: iteration 840, train loss 0.000300601, test error rate 0.04 and test loss 0.139656\n",
      "07-10 10:11:43: <ipython-input-26-2669def9777a>[50]: lr 0.0147642\n",
      "07-10 10:11:43: <ipython-input-3-04fdbeb64786>[76]: error rate 0.04, loss 0.139656\n",
      "07-10 10:11:43: <ipython-input-26-2669def9777a>[49]: iteration 850, train loss 0.000300378, test error rate 0.04 and test loss 0.139662\n",
      "07-10 10:11:43: <ipython-input-26-2669def9777a>[50]: lr 0.0140424\n",
      "07-10 10:11:44: <ipython-input-3-04fdbeb64786>[76]: error rate 0.04, loss 0.139662\n",
      "07-10 10:11:44: <ipython-input-26-2669def9777a>[49]: iteration 860, train loss 0.000300199, test error rate 0.04 and test loss 0.139669\n",
      "07-10 10:11:44: <ipython-input-26-2669def9777a>[50]: lr 0.0133559\n",
      "07-10 10:11:44: <ipython-input-3-04fdbeb64786>[76]: error rate 0.04, loss 0.139669\n",
      "07-10 10:11:44: <ipython-input-26-2669def9777a>[49]: iteration 870, train loss 0.000300065, test error rate 0.04 and test loss 0.139674\n",
      "07-10 10:11:44: <ipython-input-26-2669def9777a>[50]: lr 0.0127029\n",
      "07-10 10:11:44: <ipython-input-3-04fdbeb64786>[76]: error rate 0.04, loss 0.139674\n"
     ]
    },
    {
     "name": "stderr",
     "output_type": "stream",
     "text": [
      "07-10 10:11:44: <ipython-input-26-2669def9777a>[49]: iteration 880, train loss 0.000299886, test error rate 0.04 and test loss 0.13968\n",
      "07-10 10:11:44: <ipython-input-26-2669def9777a>[50]: lr 0.0120819\n",
      "07-10 10:11:44: <ipython-input-3-04fdbeb64786>[76]: error rate 0.04, loss 0.13968\n",
      "07-10 10:11:45: <ipython-input-26-2669def9777a>[49]: iteration 890, train loss 0.000299707, test error rate 0.04 and test loss 0.139685\n",
      "07-10 10:11:45: <ipython-input-26-2669def9777a>[50]: lr 0.0114912\n",
      "07-10 10:11:45: <ipython-input-3-04fdbeb64786>[76]: error rate 0.04, loss 0.139685\n",
      "07-10 10:11:45: <ipython-input-26-2669def9777a>[49]: iteration 900, train loss 0.000299588, test error rate 0.04 and test loss 0.13969\n",
      "07-10 10:11:45: <ipython-input-26-2669def9777a>[50]: lr 0.0109294\n",
      "07-10 10:11:45: <ipython-input-3-04fdbeb64786>[76]: error rate 0.04, loss 0.13969\n",
      "07-10 10:11:45: <ipython-input-26-2669def9777a>[49]: iteration 910, train loss 0.000299454, test error rate 0.04 and test loss 0.139695\n",
      "07-10 10:11:45: <ipython-input-26-2669def9777a>[50]: lr 0.010395\n",
      "07-10 10:11:45: <ipython-input-3-04fdbeb64786>[76]: error rate 0.04, loss 0.139695\n",
      "07-10 10:11:46: <ipython-input-26-2669def9777a>[49]: iteration 920, train loss 0.00029932, test error rate 0.04 and test loss 0.1397\n",
      "07-10 10:11:46: <ipython-input-26-2669def9777a>[50]: lr 0.00988684\n",
      "07-10 10:11:46: <ipython-input-3-04fdbeb64786>[76]: error rate 0.04, loss 0.1397\n",
      "07-10 10:11:46: <ipython-input-26-2669def9777a>[49]: iteration 930, train loss 0.00029923, test error rate 0.04 and test loss 0.139704\n",
      "07-10 10:11:46: <ipython-input-26-2669def9777a>[50]: lr 0.00940347\n",
      "07-10 10:11:46: <ipython-input-3-04fdbeb64786>[76]: error rate 0.04, loss 0.139704\n",
      "07-10 10:11:46: <ipython-input-26-2669def9777a>[49]: iteration 940, train loss 0.000299111, test error rate 0.04 and test loss 0.139708\n",
      "07-10 10:11:46: <ipython-input-26-2669def9777a>[50]: lr 0.00894374\n",
      "07-10 10:11:46: <ipython-input-3-04fdbeb64786>[76]: error rate 0.04, loss 0.139708\n",
      "07-10 10:11:47: <ipython-input-26-2669def9777a>[49]: iteration 950, train loss 0.000299022, test error rate 0.04 and test loss 0.139713\n",
      "07-10 10:11:47: <ipython-input-26-2669def9777a>[50]: lr 0.00850648\n",
      "07-10 10:11:47: <ipython-input-3-04fdbeb64786>[76]: error rate 0.04, loss 0.139713\n",
      "07-10 10:11:47: <ipython-input-26-2669def9777a>[49]: iteration 960, train loss 0.000298902, test error rate 0.04 and test loss 0.139716\n",
      "07-10 10:11:47: <ipython-input-26-2669def9777a>[50]: lr 0.0080906\n",
      "07-10 10:11:47: <ipython-input-3-04fdbeb64786>[76]: error rate 0.04, loss 0.139716\n",
      "07-10 10:11:47: <ipython-input-26-2669def9777a>[49]: iteration 970, train loss 0.000298798, test error rate 0.04 and test loss 0.13972\n",
      "07-10 10:11:47: <ipython-input-26-2669def9777a>[50]: lr 0.00769505\n",
      "07-10 10:11:47: <ipython-input-3-04fdbeb64786>[76]: error rate 0.04, loss 0.13972\n",
      "07-10 10:11:48: <ipython-input-26-2669def9777a>[49]: iteration 980, train loss 0.000298709, test error rate 0.04 and test loss 0.139723\n",
      "07-10 10:11:48: <ipython-input-26-2669def9777a>[50]: lr 0.00731884\n",
      "07-10 10:11:48: <ipython-input-3-04fdbeb64786>[76]: error rate 0.04, loss 0.139723\n",
      "07-10 10:11:48: <ipython-input-26-2669def9777a>[49]: iteration 990, train loss 0.000298589, test error rate 0.04 and test loss 0.139726\n",
      "07-10 10:11:48: <ipython-input-26-2669def9777a>[50]: lr 0.00696102\n",
      "07-10 10:11:48: <ipython-input-3-04fdbeb64786>[76]: error rate 0.04, loss 0.139726\n",
      "07-10 10:11:48: <ipython-input-26-2669def9777a>[49]: iteration 1000, train loss 0.000298485, test error rate 0.04 and test loss 0.13973\n",
      "07-10 10:11:48: <ipython-input-26-2669def9777a>[50]: lr 0.0066207\n",
      "07-10 10:11:48: <ipython-input-3-04fdbeb64786>[76]: error rate 0.04, loss 0.13973\n"
     ]
    }
   ],
   "source": [
    "set_framework_seed(args.seed)\n",
    "\n",
    "dataset_kit = get_data(args)\n",
    "model_kit = init_model(args)\n",
    "x_train, t_train, x_valid, t_valid, train_loader, valid_loader, dataset = dataset_kit\n",
    "model, optimizer, scheduler = model_kit\n",
    "\n",
    "err_rate_list = []\n",
    "\n",
    "reg_component = VAT(args)\n",
    "\n",
    "criterion = nn.CrossEntropyLoss()\n",
    "\n",
    "ul_i = 0\n",
    "loss = 0\n",
    "error_rate = 1.0\n",
    "local_best_rate = 100\n",
    "for i in range(1, args.iterations+1):\n",
    "    for l_x, l_y in train_loader:\n",
    "        l_x = l_x.to(args.device)\n",
    "        l_y = l_y.to(args.device)\n",
    "        ul_x = torch.FloatTensor(x_valid[ul_i * args.ul_batch_size:ul_i * args.ul_batch_size + args.ul_batch_size]).to(args.device)\n",
    "        ul_i = 0 if ul_i >= x_valid.shape[0] / args.ul_batch_size - 1 else ul_i + 1\n",
    "        logits = model(l_x)\n",
    "        ce_loss = criterion(logits, l_y)\n",
    "        if \"ce\" == args.trainer:\n",
    "            loss = ce_loss\n",
    "        elif args.trainer == \"vat\":\n",
    "            un = reg_component(model, l_x)\n",
    "            loss = ce_loss + un\n",
    "        elif args.trainer == \"ce-vat\":\n",
    "            un = reg_component(model, ul_x)\n",
    "            loss = ce_loss + un\n",
    "        elif \"inl0\" in args.trainer:\n",
    "            ul_loss, mask = reg_component(model, ul_x, generator, l0_ins, kl_way=args.kl)\n",
    "            loss = ce_loss + ul_loss\n",
    "        else:\n",
    "            raise NotImplementedError\n",
    "        optimizer.zero_grad()\n",
    "        loss.backward()\n",
    "        optimizer.step()\n",
    "    if scheduler:\n",
    "        scheduler.step()\n",
    "\n",
    "    if i % 10 == 0:\n",
    "        lr = scheduler.get_lr()[-1]\n",
    "        test_err, test_loss = evaluate_classifier(model, valid_loader, args.device)\n",
    "        error_rate = 1.0 * test_err / x_valid.shape[0]\n",
    "        wlog(\"iteration %d, train loss %g, test error rate %g and test loss %g\" % (i, loss, error_rate, test_loss))\n",
    "        wlog(\"lr %g\" % lr)\n",
    "        err_rate_list.append(error_rate)\n",
    "        if error_rate < local_best_rate:\n",
    "            local_best_rate = error_rate\n",
    "        semi_name = \"%s/step_%d_%d.jpg\" % (args.dir_path, args.seed, i / 10)\n",
    "        visualize_contour_semi(model, args.dataset, x_train, t_train, x_valid, t_valid, dataset[1], valid_loader, args, save_filename=semi_name)"
   ]
  },
  {
   "cell_type": "code",
   "execution_count": 36,
   "metadata": {
    "ExecuteTime": {
     "end_time": "2019-07-10T14:25:13.134958Z",
     "start_time": "2019-07-10T14:25:12.801623Z"
    }
   },
   "outputs": [
    {
     "name": "stderr",
     "output_type": "stream",
     "text": [
      "07-10 10:25:12: <ipython-input-35-ecce8164c7aa>[77]: error rate 0.04, loss 0.13973\n"
     ]
    },
    {
     "data": {
      "image/png": "[encoded data removed]",
      "text/plain": [
       "<Figure size 360x360 with 1 Axes>"
      ]
     },
     "metadata": {
      "needs_background": "light"
     },
     "output_type": "display_data"
    }
   ],
   "source": [
    "visualize_contour_semi(model, args.dataset, x_train, t_train, x_valid, t_valid, dataset[1], valid_loader, \n",
    "                       args, save_filename=None, show_contour=False )"
   ]
  },
  {
   "cell_type": "markdown",
   "metadata": {},
   "source": [
    "# visualize"
   ]
  },
  {
   "cell_type": "code",
   "execution_count": null,
   "metadata": {},
   "outputs": [],
   "source": [
    "def visualize_contour(model, d_i, x_data, y_data, basis, val_loader, args, with_lds=False, save_filename='prob_cont', show_contour=True):\n",
    "    line_width = 10\n",
    "\n",
    "    range_x = np.arange(-2.0, 2.1, 0.05)\n",
    "    a_inv = linalg.inv(np.dot(basis, basis.T))\n",
    "    train_x_org = np.dot(x_data, np.dot(basis.T, a_inv))\n",
    "    test_x_org = np.zeros((range_x.shape[0] ** 2, 2))\n",
    "    train_x_1_ind = np.where(y_data == 1)[0]\n",
    "    train_x_0_ind = np.where(y_data == 0)[0]\n",
    "\n",
    "    for t in range(range_x.shape[0]):\n",
    "        for j in range(range_x.shape[0]):\n",
    "            test_x_org[range_x.shape[0] * t + j, 0] = range_x[t]\n",
    "            test_x_org[range_x.shape[0] * t + j, 1] = range_x[j]\n",
    "\n",
    "    test_x = np.dot(test_x_org, basis)\n",
    "    model.eval()\n",
    "    f_p_y_given_x = model(torch.FloatTensor(test_x).to(args.device))\n",
    "    pred = nfunc.softmax(f_p_y_given_x, dim=1)[:, 1].cpu().detach().numpy()\n",
    "\n",
    "    z = np.zeros((range_x.shape[0], range_x.shape[0]))\n",
    "    for t in range(range_x.shape[0]):\n",
    "        for j in range(range_x.shape[0]):\n",
    "            z[t, j] = pred[range_x.shape[0] * t + j]\n",
    "\n",
    "    y, x = np.meshgrid(range_x, range_x)\n",
    "\n",
    "    font_size = 20\n",
    "    rc = 'r'\n",
    "    bc = 'b'\n",
    "\n",
    "    if d_i == \"1\":\n",
    "        rescale = 1.0  # /np.sqrt(500)\n",
    "        arc1 = plot_patch.Arc(xy=(0.5 * rescale, -0.25 * rescale), width=2.0 * rescale, height=2.0 * rescale, angle=0, theta1=270,\n",
    "                              theta2=180, linewidth=line_width, alpha=0.15, color=rc)\n",
    "        arc2 = plot_patch.Arc(xy=(-0.5 * rescale, +0.25 * rescale), width=2.0 * rescale, height=2.0 * rescale, angle=0, theta1=90,\n",
    "                              theta2=360, linewidth=line_width, alpha=0.15, color=bc)\n",
    "        fig = plt.gcf()\n",
    "        fig.gca().add_artist(arc1)\n",
    "        fig.gca().add_artist(arc2)\n",
    "        plt.xticks(fontsize=font_size)\n",
    "        plt.yticks(fontsize=font_size)\n",
    "    else:\n",
    "        rescale = 1.0  # /np.sqrt(500)\n",
    "        circle1 = plot_patch.Circle((0, 0), 1.0 * rescale, color=rc, alpha=0.2, fill=False, linewidth=line_width)\n",
    "        circle2 = plot_patch.Circle((0, 0), 0.15 * rescale, color=bc, alpha=0.2, fill=False, linewidth=line_width)\n",
    "        fig = plt.gcf()\n",
    "        fig.gca().add_artist(circle1)\n",
    "        fig.gca().add_artist(circle2)\n",
    "        plt.xticks(fontsize=font_size)\n",
    "        plt.yticks(fontsize=font_size)\n",
    "\n",
    "    levels = [0.05, 0.2, 0.35, 0.5, 0.65, 0.8, 0.95]\n",
    "    cs = plt.contour(x * rescale, y * rescale, z, 7, cmap='bwr', vmin=0., vmax=1.0, linewidths=8., levels=levels)\n",
    "    color_bar = plt.colorbar(cs)\n",
    "    color_bar.ax.tick_params(labelsize=font_size)\n",
    "    plt.setp(cs.collections, linewidth=1.0)\n",
    "    plt.contour(x * rescale, y * rescale, z, 1, cmap='binary', vmin=0, vmax=0.5, linewidths=2.0)\n",
    "\n",
    "    plt.xlim([-2. * rescale, 2. * rescale])\n",
    "    plt.ylim([-2. * rescale, 2. * rescale])\n",
    "    plt.xticks([-2.0, -1.0, 0, 1, 2.0], fontsize=font_size)\n",
    "    plt.yticks([-2.0, -1.0, 0, 1, 2.0], fontsize=font_size)\n",
    "\n",
    "    plt.scatter(train_x_org[train_x_1_ind, 0] * rescale, train_x_org[train_x_1_ind, 1] * rescale, s=10, marker='o', c=rc, label='$y=1$')\n",
    "    plt.scatter(train_x_org[train_x_0_ind, 0] * rescale, train_x_org[train_x_0_ind, 1] * rescale, s=10, marker='^', c=bc, label='$y=0$')\n",
    "\n",
    "    err_num, loss = evaluate_classifier(model, val_loader, args.device)\n",
    "    err_rate = 1.0 * err_num / len(val_loader.dataset)\n",
    "    wlog(\"error and loss  %g, %g\" % (err_num, loss))\n",
    "    wlog(\"error rate %g\" % err_rate)\n",
    "\n",
    "    lds_part = \"\"\n",
    "    if with_lds:\n",
    "        args.eps = 0.5\n",
    "        args.k = 5\n",
    "        reg_component = VAT(args)\n",
    "        x_data = x_data.to(args.device)\n",
    "\n",
    "        avg_lds = 0\n",
    "        for t in range(20):\n",
    "            avg_lds = reg_component(model, x_data, kl_way=1)\n",
    "        avg_lds /= 20\n",
    "        lds_part = '\\nAverage $\\widetilde{\\\\rm LDS}=%.3f$' % avg_lds\n",
    "        args.k = 1\n",
    "    if show_contour:\n",
    "        plt.title('%s Error %g%s' % (args.trainer, err_rate, lds_part))\n",
    "    fig.set_size_inches(5, 5)\n",
    "    if save_filename is None:\n",
    "        plt.show(block=False)\n",
    "    else:\n",
    "        plt.savefig(save_filename)\n",
    "    plt.close()\n"
   ]
  },
  {
   "cell_type": "markdown",
   "metadata": {},
   "source": [
    "# vis two"
   ]
  },
  {
   "cell_type": "code",
   "execution_count": 35,
   "metadata": {
    "ExecuteTime": {
     "end_time": "2019-07-10T14:25:10.427218Z",
     "start_time": "2019-07-10T14:25:10.358176Z"
    }
   },
   "outputs": [],
   "source": [
    "def visualize_contour_semi(model, d_i, x_data, y_data, ul_x, ul_y, basis, val_loader, args, with_lds=True, save_filename='prob_cont', show_contour=True):\n",
    "    line_width = 10\n",
    "\n",
    "    range_x = np.arange(-2.0, 2.1, 0.05)\n",
    "    a_inv = linalg.inv(np.dot(basis, basis.T))\n",
    "    train_x_org = np.dot(x_data, np.dot(basis.T, a_inv))\n",
    "    test_x_org = np.zeros((range_x.shape[0] ** 2, 2))\n",
    "    train_x_1_ind = np.where(y_data == 1)[0]\n",
    "    train_x_0_ind = np.where(y_data == 0)[0]\n",
    "\n",
    "    ul_x_org = np.dot(ul_x, np.dot(basis.T, a_inv))\n",
    "    ul_x_1_ind = np.where(ul_y == 1)[0]\n",
    "    ul_x_0_ind = np.where(ul_y == 0)[0]\n",
    "\n",
    "    for i in range(range_x.shape[0]):\n",
    "        for j in range(range_x.shape[0]):\n",
    "            test_x_org[range_x.shape[0] * i + j, 0] = range_x[i]\n",
    "            test_x_org[range_x.shape[0] * i + j, 1] = range_x[j]\n",
    "\n",
    "    test_x = np.dot(test_x_org, basis)\n",
    "    model.eval()\n",
    "    f_p_y_given_x = model(torch.FloatTensor(test_x).to(args.device))\n",
    "    pred = nfunc.softmax(f_p_y_given_x, dim=1)[:, 1].cpu().detach().numpy()\n",
    "\n",
    "    z = np.zeros((range_x.shape[0], range_x.shape[0]))\n",
    "    for i in range(range_x.shape[0]):\n",
    "        for j in range(range_x.shape[0]):\n",
    "            z[i, j] = pred[range_x.shape[0] * i + j]\n",
    "\n",
    "    y, x = np.meshgrid(range_x, range_x)\n",
    "\n",
    "    font_size = 20\n",
    "    rc = 'r'\n",
    "    bc = 'b'\n",
    "\n",
    "    if d_i == \"1\":\n",
    "        rescale = 1.0  # /np.sqrt(500)\n",
    "        arc1 = plot_patch.Arc(xy=(0.5 * rescale, -0.25 * rescale), width=2.0 * rescale, height=2.0 * rescale, angle=0, theta1=270,\n",
    "                              theta2=180, linewidth=line_width, alpha=0.15, color=rc)\n",
    "        arc2 = plot_patch.Arc(xy=(-0.5 * rescale, +0.25 * rescale), width=2.0 * rescale, height=2.0 * rescale, angle=0, theta1=90,\n",
    "                              theta2=360, linewidth=line_width, alpha=0.15, color=bc)\n",
    "        fig = plt.gcf()\n",
    "        fig.gca().add_artist(arc1)\n",
    "        fig.gca().add_artist(arc2)\n",
    "        plt.xticks(fontsize=font_size)\n",
    "        plt.yticks(fontsize=font_size)\n",
    "    else:\n",
    "        rescale = 1.0  # /np.sqrt(500)\n",
    "        circle1 = plot_patch.Circle((0, 0), 1.0 * rescale, color=rc, alpha=0.2, fill=False, linewidth=line_width)\n",
    "        circle2 = plot_patch.Circle((0, 0), 0.15 * rescale, color=bc, alpha=0.2, fill=False, linewidth=line_width)\n",
    "        fig = plt.gcf()\n",
    "        fig.gca().add_artist(circle1)\n",
    "        fig.gca().add_artist(circle2)\n",
    "        plt.xticks(fontsize=font_size)\n",
    "        plt.yticks(fontsize=font_size)\n",
    "\n",
    "    if show_contour:\n",
    "        levels = [0.05, 0.2, 0.35, 0.5, 0.65, 0.8, 0.95]\n",
    "        cs = plt.contour(x * rescale, y * rescale, z, 7, cmap='bwr', vmin=0., vmax=1.0, linewidths=8., levels=levels)\n",
    "        color_bar = plt.colorbar(cs)\n",
    "        color_bar.ax.tick_params(labelsize=font_size)\n",
    "        plt.setp(cs.collections, linewidth=1.0)\n",
    "        plt.contour(x * rescale, y * rescale, z, 1, cmap='binary', vmin=0, vmax=0.5, linewidths=2.0)\n",
    "\n",
    "    plt.xlim([-2. * rescale, 2. * rescale])\n",
    "    plt.ylim([-2. * rescale, 2. * rescale])\n",
    "    plt.xticks([-2.0, -1.0, 0, 1, 2.0], fontsize=font_size)\n",
    "    plt.yticks([-2.0, -1.0, 0, 1, 2.0], fontsize=font_size)\n",
    "\n",
    "    plt.scatter(ul_x_org[ul_x_1_ind, 0] * rescale, ul_x_org[ul_x_1_ind, 1] * rescale, s=2, marker='o', c=rc, label='$y=1$')\n",
    "    plt.scatter(ul_x_org[ul_x_0_ind, 0] * rescale, ul_x_org[ul_x_0_ind, 1] * rescale, s=2, marker='o', c=bc, label='$y=0$')\n",
    "    plt.scatter(train_x_org[train_x_1_ind, 0] * rescale, train_x_org[train_x_1_ind, 1] * rescale, s=50, marker='o', c=rc, label='$y=1$', edgecolor='black', linewidth=1)\n",
    "    plt.scatter(train_x_org[train_x_0_ind, 0] * rescale, train_x_org[train_x_0_ind, 1] * rescale, s=50, marker='o', c=bc, label='$y=0$', edgecolor='black', linewidth=1)\n",
    "\n",
    "    err_num, loss = evaluate_classifier(model, val_loader, args.device)\n",
    "    err_rate = 1.0 * err_num / len(val_loader.dataset)\n",
    "    wlog(\"error rate %g, loss %g\" % (err_rate, loss))\n",
    "\n",
    "    lds_part = \"\"\n",
    "    if with_lds:\n",
    "        args.eps = 0.5\n",
    "        args.k = 5\n",
    "        reg_component = VAT(args)\n",
    "        x_data = x_data.to(args.device)\n",
    "\n",
    "        ave_lds = 0\n",
    "        for t in range(20):\n",
    "            ave_lds += reg_component(model, x_data, kl_way=1)\n",
    "        ave_lds /= 20\n",
    "        lds_part = ' $\\widetilde{\\\\rm LDS}=%.3f$' % ave_lds\n",
    "        args.k = 1\n",
    "    if show_contour:\n",
    "        plt.title('%s\\nError %g%s' % (args.exp_marker, err_rate, lds_part))\n",
    "    fig.set_size_inches(5, 5)\n",
    "    if save_filename is None:\n",
    "        plt.show()\n",
    "    else:\n",
    "        plt.savefig(save_filename)\n",
    "    plt.close()\n",
    "\n"
   ]
  }
 ],
 "metadata": {
  "kernelspec": {
   "display_name": "Python 3",
   "language": "python",
   "name": "python3"
  },
  "language_info": {
   "codemirror_mode": {
    "name": "ipython",
    "version": 3
   },
   "file_extension": ".py",
   "mimetype": "text/x-python",
   "name": "python",
   "nbconvert_exporter": "python",
   "pygments_lexer": "ipython3",
   "version": "3.6.8"
  },
  "toc": {
   "base_numbering": 1,
   "nav_menu": {},
   "number_sections": true,
   "sideBar": true,
   "skip_h1_title": false,
   "title_cell": "Table of Contents",
   "title_sidebar": "Contents",
   "toc_cell": false,
   "toc_position": {},
   "toc_section_display": true,
   "toc_window_display": true
  },
  "varInspector": {
   "cols": {
    "lenName": 16,
    "lenType": 16,
    "lenVar": 40
   },
   "kernels_config": {
    "python": {
     "delete_cmd_postfix": "",
     "delete_cmd_prefix": "del ",
     "library": "var_list.py",
     "varRefreshCmd": "print(var_dic_list())"
    },
    "r": {
     "delete_cmd_postfix": ") ",
     "delete_cmd_prefix": "rm(",
     "library": "var_list.r",
     "varRefreshCmd": "cat(var_dic_list()) "
    }
   },
   "types_to_exclude": [
    "module",
    "function",
    "builtin_function_or_method",
    "instance",
    "_Feature"
   ],
   "window_display": false
  }
 },
 "nbformat": 4,
 "nbformat_minor": 2
}
